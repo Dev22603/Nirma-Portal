{
 "cells": [
  {
   "cell_type": "code",
   "execution_count": 1,
   "metadata": {},
   "outputs": [],
   "source": [
    "import pandas as pd\n",
    "import os\n",
    "from sqlalchemy import create_engine, text\n",
    "from sqlalchemy.exc import OperationalError\n",
    "from dotenv import load_dotenv\n",
    "import psycopg2\n",
    "folder_path = 'excel files'\n"
   ]
  },
  {
   "cell_type": "code",
   "execution_count": 2,
   "metadata": {},
   "outputs": [
    {
     "name": "stdout",
     "output_type": "stream",
     "text": [
      "dict_keys(['2022-23', '2023-24'])\n",
      "dict_keys(['2022-23', '2023-24'])\n",
      "dict_keys(['2022-23', 'Summary of 2022-23'])\n"
     ]
    }
   ],
   "source": [
    "dataframes_dict = {}\n",
    "\n",
    "for filename in os.listdir(folder_path):\n",
    "    if filename.endswith('.xlsx') or filename.endswith('.xls'):\n",
    "        file_path = os.path.join(folder_path, filename)    \n",
    "        df = pd.read_excel(file_path,None) \n",
    "        dataframes_dict[filename] = df\n",
    "        print(dataframes_dict[filename].keys()) \n",
    "        \n"
   ]
  },
  {
   "cell_type": "code",
   "execution_count": 3,
   "metadata": {},
   "outputs": [],
   "source": [
    "# dataframes_dict['Book_Chapter_Publication.xlsx']['2022-23']\n",
    "# dataframes_dict['Book_Chapter_Publication.xlsx']['2023-24']\n",
    "# dataframes_dict['Conference_Publication.xlsx']['2022-23']\n",
    "# dataframes_dict['Conference_Publication.xlsx']['2023-24']\n",
    "# dataframes_dict['Journal_Papers.xlsx']['2022-23']\n",
    "# dataframes_dict['Journal_Papers.xlsx']['Summary of 2022-23']"
   ]
  },
  {
   "cell_type": "code",
   "execution_count": 4,
   "metadata": {},
   "outputs": [
    {
     "name": "stdout",
     "output_type": "stream",
     "text": [
      "File:  Book_Chapter_Publication.xlsx\n",
      "\tSheet:  2022-23\n",
      "\tSheet:  2023-24\n",
      "File:  Conference_Publication.xlsx\n",
      "\tSheet:  2022-23\n",
      "\tSheet:  2023-24\n",
      "File:  Journal_Papers.xlsx\n",
      "\tSheet:  2022-23\n",
      "\tSheet:  Summary of 2022-23\n"
     ]
    }
   ],
   "source": [
    "for key, value in dataframes_dict.items():\n",
    "    print(\"File: \",key)\n",
    "    for k,v in value.items():\n",
    "        print(\"\\tSheet: \",k)\n",
    "        "
   ]
  },
  {
   "cell_type": "code",
   "execution_count": 5,
   "metadata": {},
   "outputs": [],
   "source": [
    "del dataframes_dict['Journal_Papers.xlsx']['Summary of 2022-23']"
   ]
  },
  {
   "cell_type": "code",
   "execution_count": 6,
   "metadata": {},
   "outputs": [],
   "source": [
    "dataframes_dict['Book_Chapter_Publication.xlsx']['2023-24'].drop('Download File', axis=1,inplace=True)\n",
    "dataframes_dict['Book_Chapter_Publication.xlsx']['2022-23'].drop('Download File', axis=1,inplace=True)"
   ]
  },
  {
   "cell_type": "code",
   "execution_count": 7,
   "metadata": {},
   "outputs": [
    {
     "data": {
      "text/plain": [
       "Index(['id', 'Book Title', 'Book Chapter Title', 'Name of Book Publisher',\n",
       "       'Month', 'Year', 'Year of Pub.', 'ISBNNo No', 'Publication Type',\n",
       "       'Publication City', 'Author', 'Department Name'],\n",
       "      dtype='object')"
      ]
     },
     "execution_count": 7,
     "metadata": {},
     "output_type": "execute_result"
    }
   ],
   "source": [
    "dataframes_dict['Book_Chapter_Publication.xlsx']['2023-24'].columns"
   ]
  },
  {
   "cell_type": "code",
   "execution_count": 8,
   "metadata": {},
   "outputs": [
    {
     "data": {
      "text/plain": [
       "['Book_Chapter_Publication.xlsx',\n",
       " 'Conference_Publication.xlsx',\n",
       " 'Journal_Papers.xlsx']"
      ]
     },
     "execution_count": 8,
     "metadata": {},
     "output_type": "execute_result"
    }
   ],
   "source": [
    "excel_files=list(dataframes_dict.keys())\n",
    "# Gives list of all the excel files\n",
    "excel_files"
   ]
  },
  {
   "cell_type": "code",
   "execution_count": 9,
   "metadata": {},
   "outputs": [
    {
     "name": "stdout",
     "output_type": "stream",
     "text": [
      "42\n",
      "6\n"
     ]
    }
   ],
   "source": [
    "def split_authors(df, column_name, max_authors=10):\n",
    "    if column_name in df.columns:\n",
    "        df.loc[:,column_name] = df[column_name].str.strip().str.replace(r',+', ',', regex=True).str.rstrip(',')\n",
    "    else:\n",
    "        return df\n",
    "\n",
    "    # Split the 'author' column into lists of authors\n",
    "    authors_split = df[column_name].str.split(',', expand=True)\n",
    "    print(authors_split.shape[0])\n",
    "    print(authors_split.shape[1])\n",
    "    # Rename columns to 'author_1', 'author_2', ..., 'author_10'\n",
    "    authors_split.columns = [f'{column_name}{i+1}' for i in range(authors_split.shape[1])]\n",
    "    \n",
    "    # If there are less columns than max_authors, add additional columns with None\n",
    "    for i in range(authors_split.shape[1], max_authors):\n",
    "        authors_split[f'{column_name}{i+1}'] = None\n",
    "    \n",
    "    # # Trim to max_authors columns\n",
    "    # authors_split = authors_split.iloc[:, :max_authors] # if more than 10 authors are there than it will remove the extra authors\n",
    "    \n",
    "    # Drop the original 'author' column and concatenate the new columns\n",
    "    df = df.drop(columns=[column_name])\n",
    "    df = pd.concat([df, authors_split], axis=1)\n",
    "    \n",
    "    return df\n",
    "df = split_authors(dataframes_dict['Book_Chapter_Publication.xlsx']['2022-23'], 'Author', max_authors=10)\n"
   ]
  },
  {
   "cell_type": "code",
   "execution_count": 10,
   "metadata": {},
   "outputs": [],
   "source": [
    "for filename, value in dataframes_dict.items():\n",
    "    # print(\"File: \",filename)\n",
    "    sheets=list(value.keys())\n",
    "    cols=list(value[sheets[0]].columns)\n",
    "    # print(cols)\n",
    "    for k,v in value.items():\n",
    "        # print(v.columns)\n",
    "        if list(v.columns)!=cols:\n",
    "            print(\"Error: Different columns in sheet\",k)"
   ]
  },
  {
   "cell_type": "code",
   "execution_count": 28,
   "metadata": {},
   "outputs": [],
   "source": [
    "Tables={}\n",
    "for filename, value in dataframes_dict.items():\n",
    "    # print(\"File: \",filename)\n",
    "    sheets=list(value.keys())\n",
    "    cols=list(value[sheets[0]].columns)\n",
    "    # print(cols)\n",
    "    Dataframe=value[sheets[0]].drop('id',axis=1)\n",
    "    for i in range(1,len(sheets)):\n",
    "        Dataframe=pd.concat([Dataframe,value[sheets[i]].drop('id',axis=1)],ignore_index=True).drop_duplicates()\n",
    "    Tables[filename]=Dataframe\n",
    "        \n",
    "        "
   ]
  },
  {
   "cell_type": "code",
   "execution_count": 34,
   "metadata": {},
   "outputs": [
    {
     "data": {
      "text/plain": [
       "array([nan,\n",
       "       'Note that from the first issue of 2016, this journal uses article numbers instead of page numbers. See further details here.'],\n",
       "      dtype=object)"
      ]
     },
     "execution_count": 34,
     "metadata": {},
     "output_type": "execute_result"
    }
   ],
   "source": [
    "Tables['Journal_Papers.xlsx']['Unnamed: 24'].unique()"
   ]
  },
  {
   "cell_type": "code",
   "execution_count": 133,
   "metadata": {},
   "outputs": [
    {
     "data": {
      "text/html": [
       "<div>\n",
       "<style scoped>\n",
       "    .dataframe tbody tr th:only-of-type {\n",
       "        vertical-align: middle;\n",
       "    }\n",
       "\n",
       "    .dataframe tbody tr th {\n",
       "        vertical-align: top;\n",
       "    }\n",
       "\n",
       "    .dataframe thead th {\n",
       "        text-align: right;\n",
       "    }\n",
       "</style>\n",
       "<table border=\"1\" class=\"dataframe\">\n",
       "  <thead>\n",
       "    <tr style=\"text-align: right;\">\n",
       "      <th></th>\n",
       "      <th>id</th>\n",
       "      <th>Book Title</th>\n",
       "      <th>Book Chapter Title</th>\n",
       "      <th>Name of Book Publisher</th>\n",
       "      <th>Month</th>\n",
       "      <th>Year</th>\n",
       "      <th>Year of Pub.</th>\n",
       "      <th>ISBNNo No</th>\n",
       "      <th>Publication Type</th>\n",
       "      <th>Publication City</th>\n",
       "      <th>...</th>\n",
       "      <th>Author1</th>\n",
       "      <th>Author2</th>\n",
       "      <th>Author3</th>\n",
       "      <th>Author4</th>\n",
       "      <th>Author5</th>\n",
       "      <th>Author6</th>\n",
       "      <th>Author7</th>\n",
       "      <th>Author8</th>\n",
       "      <th>Author9</th>\n",
       "      <th>Author10</th>\n",
       "    </tr>\n",
       "  </thead>\n",
       "  <tbody>\n",
       "    <tr>\n",
       "      <th>0</th>\n",
       "      <td>1</td>\n",
       "      <td>LECTURE NOTES IN NETWORKS AND SYSTEMS</td>\n",
       "      <td>CSBRCA: CLOUD SECURITY BREACHES AND ITS ROOT C...</td>\n",
       "      <td>SPRINGER</td>\n",
       "      <td>7</td>\n",
       "      <td>2022</td>\n",
       "      <td>2022-23</td>\n",
       "      <td>978-981-19-1142-2</td>\n",
       "      <td>Chapter in Book</td>\n",
       "      <td>Singapore</td>\n",
       "      <td>...</td>\n",
       "      <td>CHUDASAMA VIPUL HASMUKHLAL</td>\n",
       "      <td>MADHURI BHAVSAR</td>\n",
       "      <td>VIVEK KUMAR PRASAD</td>\n",
       "      <td>ASHEESH SHAH</td>\n",
       "      <td>AKSHAY MEWADA</td>\n",
       "      <td>None</td>\n",
       "      <td>None</td>\n",
       "      <td>None</td>\n",
       "      <td>None</td>\n",
       "      <td>None</td>\n",
       "    </tr>\n",
       "    <tr>\n",
       "      <th>1</th>\n",
       "      <td>2</td>\n",
       "      <td>PROCEEDINGS OF THIRD INTERNATIONAL CONFERENCE ...</td>\n",
       "      <td>A SENTIMENT ANALYSIS-BASED RECOMMENDER FRAMEWO...</td>\n",
       "      <td>SPRINGER, SINGAPORE</td>\n",
       "      <td>7</td>\n",
       "      <td>2022</td>\n",
       "      <td>2022-23</td>\n",
       "      <td>978-981-19-1141-5</td>\n",
       "      <td>Chapter in Proceeding</td>\n",
       "      <td>Singapore</td>\n",
       "      <td>...</td>\n",
       "      <td>AKHIL BHATIA</td>\n",
       "      <td>SUDEEP TANWAR</td>\n",
       "      <td>ANANSHA ASTHANA</td>\n",
       "      <td>None</td>\n",
       "      <td>None</td>\n",
       "      <td>None</td>\n",
       "      <td>None</td>\n",
       "      <td>None</td>\n",
       "      <td>None</td>\n",
       "      <td>None</td>\n",
       "    </tr>\n",
       "    <tr>\n",
       "      <th>2</th>\n",
       "      <td>3</td>\n",
       "      <td>2022 IEEE BOMBAY SECTION SIGNATURE CONFERENCE ...</td>\n",
       "      <td>AI BASED CLASSIFICATION FOR AUTISM SPECTRUM DI...</td>\n",
       "      <td>IEEE</td>\n",
       "      <td>2</td>\n",
       "      <td>2023</td>\n",
       "      <td>2022-23</td>\n",
       "      <td>978-1-6654-9291-1</td>\n",
       "      <td>Chapter in Proceeding</td>\n",
       "      <td>Bombay</td>\n",
       "      <td>...</td>\n",
       "      <td>VERMA JAIPRAKASH VINODKUMAR</td>\n",
       "      <td>SWATI JAIN</td>\n",
       "      <td>SHIVANI PANDYA</td>\n",
       "      <td>None</td>\n",
       "      <td>None</td>\n",
       "      <td>None</td>\n",
       "      <td>None</td>\n",
       "      <td>None</td>\n",
       "      <td>None</td>\n",
       "      <td>None</td>\n",
       "    </tr>\n",
       "    <tr>\n",
       "      <th>3</th>\n",
       "      <td>4</td>\n",
       "      <td>HORIZONS IN COMPUTER SCIENCE RESEARCH</td>\n",
       "      <td>THE FUTURE OF INTRUSION DETECTION SYSTEM IN CL...</td>\n",
       "      <td>NOVA SCIENCE PUBLISHERS VOLUME 23</td>\n",
       "      <td>10</td>\n",
       "      <td>2022</td>\n",
       "      <td>2022-23</td>\n",
       "      <td>21592012</td>\n",
       "      <td>Chapter in Book</td>\n",
       "      <td>Newyork</td>\n",
       "      <td>...</td>\n",
       "      <td>SUNIL GAUTAM</td>\n",
       "      <td>None</td>\n",
       "      <td>None</td>\n",
       "      <td>None</td>\n",
       "      <td>None</td>\n",
       "      <td>None</td>\n",
       "      <td>None</td>\n",
       "      <td>None</td>\n",
       "      <td>None</td>\n",
       "      <td>None</td>\n",
       "    </tr>\n",
       "    <tr>\n",
       "      <th>4</th>\n",
       "      <td>5</td>\n",
       "      <td>HORIZONS IN COMPUTER SCIENCE RESEARCH</td>\n",
       "      <td>INTRUSION DETECTION SYSTEMS FOR ADVANCED ECOSY...</td>\n",
       "      <td>NOVA SCIENCE PUBLISHERS VOLUME 23</td>\n",
       "      <td>10</td>\n",
       "      <td>2022</td>\n",
       "      <td>2022-23</td>\n",
       "      <td>21592012</td>\n",
       "      <td>Chapter in Book</td>\n",
       "      <td>Newyork</td>\n",
       "      <td>...</td>\n",
       "      <td>SUNIL GAUTAM</td>\n",
       "      <td>None</td>\n",
       "      <td>None</td>\n",
       "      <td>None</td>\n",
       "      <td>None</td>\n",
       "      <td>None</td>\n",
       "      <td>None</td>\n",
       "      <td>None</td>\n",
       "      <td>None</td>\n",
       "      <td>None</td>\n",
       "    </tr>\n",
       "  </tbody>\n",
       "</table>\n",
       "<p>5 rows × 21 columns</p>\n",
       "</div>"
      ],
      "text/plain": [
       "   id                                         Book Title  \\\n",
       "0   1              LECTURE NOTES IN NETWORKS AND SYSTEMS   \n",
       "1   2  PROCEEDINGS OF THIRD INTERNATIONAL CONFERENCE ...   \n",
       "2   3  2022 IEEE BOMBAY SECTION SIGNATURE CONFERENCE ...   \n",
       "3   4              HORIZONS IN COMPUTER SCIENCE RESEARCH   \n",
       "4   5              HORIZONS IN COMPUTER SCIENCE RESEARCH   \n",
       "\n",
       "                                  Book Chapter Title  \\\n",
       "0  CSBRCA: CLOUD SECURITY BREACHES AND ITS ROOT C...   \n",
       "1  A SENTIMENT ANALYSIS-BASED RECOMMENDER FRAMEWO...   \n",
       "2  AI BASED CLASSIFICATION FOR AUTISM SPECTRUM DI...   \n",
       "3  THE FUTURE OF INTRUSION DETECTION SYSTEM IN CL...   \n",
       "4  INTRUSION DETECTION SYSTEMS FOR ADVANCED ECOSY...   \n",
       "\n",
       "              Name of Book Publisher  Month  Year Year of Pub.  \\\n",
       "0                           SPRINGER      7  2022      2022-23   \n",
       "1                SPRINGER, SINGAPORE      7  2022      2022-23   \n",
       "2                               IEEE      2  2023      2022-23   \n",
       "3  NOVA SCIENCE PUBLISHERS VOLUME 23     10  2022      2022-23   \n",
       "4  NOVA SCIENCE PUBLISHERS VOLUME 23     10  2022      2022-23   \n",
       "\n",
       "           ISBNNo No       Publication Type Publication City  ...  \\\n",
       "0  978-981-19-1142-2        Chapter in Book        Singapore  ...   \n",
       "1  978-981-19-1141-5  Chapter in Proceeding        Singapore  ...   \n",
       "2  978-1-6654-9291-1  Chapter in Proceeding           Bombay  ...   \n",
       "3           21592012        Chapter in Book          Newyork  ...   \n",
       "4           21592012        Chapter in Book          Newyork  ...   \n",
       "\n",
       "                       Author1           Author2              Author3  \\\n",
       "0   CHUDASAMA VIPUL HASMUKHLAL   MADHURI BHAVSAR   VIVEK KUMAR PRASAD   \n",
       "1                 AKHIL BHATIA     SUDEEP TANWAR      ANANSHA ASTHANA   \n",
       "2  VERMA JAIPRAKASH VINODKUMAR        SWATI JAIN       SHIVANI PANDYA   \n",
       "3                 SUNIL GAUTAM              None                 None   \n",
       "4                 SUNIL GAUTAM              None                 None   \n",
       "\n",
       "         Author4         Author5 Author6 Author7 Author8 Author9 Author10  \n",
       "0   ASHEESH SHAH   AKSHAY MEWADA    None    None    None    None     None  \n",
       "1           None            None    None    None    None    None     None  \n",
       "2           None            None    None    None    None    None     None  \n",
       "3           None            None    None    None    None    None     None  \n",
       "4           None            None    None    None    None    None     None  \n",
       "\n",
       "[5 rows x 21 columns]"
      ]
     },
     "execution_count": 133,
     "metadata": {},
     "output_type": "execute_result"
    }
   ],
   "source": [
    "df.head()"
   ]
  },
  {
   "cell_type": "code",
   "execution_count": 134,
   "metadata": {},
   "outputs": [
    {
     "data": {
      "text/plain": [
       "True"
      ]
     },
     "execution_count": 134,
     "metadata": {},
     "output_type": "execute_result"
    }
   ],
   "source": [
    "load_dotenv()\n"
   ]
  },
  {
   "cell_type": "code",
   "execution_count": 135,
   "metadata": {},
   "outputs": [],
   "source": [
    "# Function to create a PostgreSQL database and insert data into tables\n",
    "def create_db_and_insert_data(db_name, sheet_data):\n",
    "    # Create a connection to PostgreSQL\n",
    "    engine = create_engine(f'postgresql://{os.getenv('DB_USER')}:{os.getenv('DB_PASSWORD')}@{os.getenv('DB_HOST')}:{os.getenv('DB_PORT')}/{os.getenv('DB_NAME')}')\n",
    "    for sheet_name, df in sheet_data.items():\n",
    "        print(sheet_name)\n",
    "        df.to_sql(sheet_name, engine, if_exists='replace', index=False)"
   ]
  },
  {
   "cell_type": "code",
   "execution_count": 136,
   "metadata": {},
   "outputs": [
    {
     "name": "stdout",
     "output_type": "stream",
     "text": [
      "Book_Chapter_Publication.xlsx\n",
      "42\n",
      "6\n",
      "Book_Chapter_Publication.xlsx\n",
      "28\n",
      "5\n",
      "Conference_Publication.xlsx\n",
      "75\n",
      "8\n",
      "Conference_Publication.xlsx\n",
      "49\n",
      "7\n",
      "Journal_Papers.xlsx\n"
     ]
    }
   ],
   "source": [
    "for i in excel_files:\n",
    "    for df in dataframes_dict[i]:\n",
    "        print(i)\n",
    "        dataframes_dict[i][df]=split_authors(dataframes_dict[i][df], 'Author', max_authors=10)"
   ]
  },
  {
   "cell_type": "code",
   "execution_count": null,
   "metadata": {},
   "outputs": [],
   "source": [
    "for i in excel_files:\n",
    "    create_db_and_insert_data(i[0:-5].lower(),dataframes_dict[i])"
   ]
  },
  {
   "cell_type": "code",
   "execution_count": null,
   "metadata": {},
   "outputs": [],
   "source": [
    "# SELECT 'CREATE DATABASE exp_db' \n",
    "# WHERE NOT EXISTS (SELECT FROM pg_database WHERE datname = 'exp_db')"
   ]
  },
  {
   "cell_type": "code",
   "execution_count": null,
   "metadata": {},
   "outputs": [],
   "source": []
  }
 ],
 "metadata": {
  "kernelspec": {
   "display_name": "base",
   "language": "python",
   "name": "python3"
  },
  "language_info": {
   "codemirror_mode": {
    "name": "ipython",
    "version": 3
   },
   "file_extension": ".py",
   "mimetype": "text/x-python",
   "name": "python",
   "nbconvert_exporter": "python",
   "pygments_lexer": "ipython3",
   "version": "3.12.2"
  }
 },
 "nbformat": 4,
 "nbformat_minor": 2
}
